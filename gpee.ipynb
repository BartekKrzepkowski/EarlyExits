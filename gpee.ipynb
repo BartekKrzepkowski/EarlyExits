{
 "cells": [
  {
   "cell_type": "code",
   "execution_count": 1,
   "id": "d1569d32-49b8-47e9-986c-d79ed942e938",
   "metadata": {},
   "outputs": [],
   "source": [
    "%load_ext autoreload\n",
    "%autoreload 2\n",
    "%load_ext tensorboard"
   ]
  },
  {
   "cell_type": "code",
   "execution_count": 2,
   "id": "fc444c4a-e269-4330-aee6-fbed77257a8d",
   "metadata": {},
   "outputs": [
    {
     "data": {
      "text/plain": [
       "device(type='cuda')"
      ]
     },
     "execution_count": 2,
     "metadata": {},
     "output_type": "execute_result"
    }
   ],
   "source": [
    "import torch\n",
    "\n",
    "device = torch.device(\"cuda\" if torch.cuda.is_available() else \"cpu\")\n",
    "device"
   ]
  },
  {
   "cell_type": "markdown",
   "id": "ddf41d02-b7ab-4880-b63d-140d033e1093",
   "metadata": {},
   "source": [
    "# Model"
   ]
  },
  {
   "cell_type": "code",
   "execution_count": 3,
   "id": "4c86e001-5453-4cda-adc0-05e4a48a7c03",
   "metadata": {},
   "outputs": [],
   "source": [
    "#model\n",
    "from src.models.resnets_eff import ResNet34\n",
    "\n",
    "NUM_CLASSES = 10\n",
    "model = ResNet34(num_classes=NUM_CLASSES).to(device)\n",
    "\n",
    "PATH = 'models/model_2023-01-10 15:25:15.316290_step_0.pth'\n",
    "model.load_state_dict(torch.load(PATH))\n",
    "\n",
    "for name, p in model.named_parameters():\n",
    "    p.requires_grad = False"
   ]
  },
  {
   "cell_type": "markdown",
   "id": "096b69ab-2dd6-4309-a535-4f3646e882b1",
   "metadata": {},
   "source": [
    "# Early Exit Wrapper"
   ]
  },
  {
   "cell_type": "code",
   "execution_count": 4,
   "id": "a5d03cd3-4ad6-4b89-a863-44bc3aeb3770",
   "metadata": {},
   "outputs": [],
   "source": [
    "from src.models.methods.gpee import GPEE\n",
    "LD = [64, 64, 64, 128, 128, 128, 128, 256, 256, 256, 256, 256, 256, 512, 512, 512]\n",
    "\n",
    "config_ee = {\n",
    "    'confidence_threshold': 0.05,\n",
    "    'is_model_frozen': True,\n",
    "    'act_name': 'relu',\n",
    "    'dropout_prob': 0.1,\n",
    "    'reduction_layer_weight_std': 0.02,\n",
    "    'device': device\n",
    "}\n",
    "\n",
    "ee_wrapper = GPEE(model=model, layers_dim=LD, num_classes=NUM_CLASSES, config_ee=config_ee).to(device)"
   ]
  },
  {
   "cell_type": "markdown",
   "id": "15d9df17-3d8c-41f8-a2b5-b2f8deb1f7cd",
   "metadata": {
    "tags": []
   },
   "source": [
    "# Optimizer"
   ]
  },
  {
   "cell_type": "code",
   "execution_count": 5,
   "id": "4b01ae97-4951-4fae-bc89-fcab894475f1",
   "metadata": {},
   "outputs": [],
   "source": [
    "from src.common.common import OPTIMIZER_NAME_MAP, LOSS_NAME_MAP\n",
    "\n",
    "optim = OPTIMIZER_NAME_MAP['adamw'](filter(lambda p: p.requires_grad, ee_wrapper.parameters()), **{'lr': 0.01, 'weight_decay': 0.001})\n",
    "lr_scheduler = None"
   ]
  },
  {
   "cell_type": "markdown",
   "id": "e607a3b6-8fa5-422a-adbc-1c9dc83b7a09",
   "metadata": {},
   "source": [
    "# Dataset"
   ]
  },
  {
   "cell_type": "code",
   "execution_count": 6,
   "id": "37d21531-cfcb-4e44-9890-e52b575a104c",
   "metadata": {},
   "outputs": [
    {
     "name": "stdout",
     "output_type": "stream",
     "text": [
      "Files already downloaded and verified\n",
      "Files already downloaded and verified\n",
      "Files already downloaded and verified\n"
     ]
    }
   ],
   "source": [
    "from torch.utils.data import DataLoader\n",
    "from src.data.datasets import get_cifar10\n",
    "\n",
    "\n",
    "train_dataset, _, test_dataset = get_cifar10('data/')\n",
    "\n",
    "BATCH_SIZE = 64\n",
    "\n",
    "train_loader = DataLoader(train_dataset, batch_size=BATCH_SIZE, shuffle=True, pin_memory=True, num_workers=4)\n",
    "test_loader = DataLoader(test_dataset, batch_size=BATCH_SIZE, shuffle=False, pin_memory=True, num_workers=4)\n",
    "\n",
    "loaders = {\n",
    "    'train': train_loader,\n",
    "    'test': test_loader\n",
    "}"
   ]
  },
  {
   "cell_type": "code",
   "execution_count": 7,
   "id": "40d0d194-d457-40bc-8947-af72967b51cd",
   "metadata": {
    "tags": []
   },
   "outputs": [
    {
     "data": {
      "text/html": [
       "\n",
       "      <iframe id=\"tensorboard-frame-92de100235a5de93\" width=\"100%\" height=\"800\" frameborder=\"0\">\n",
       "      </iframe>\n",
       "      <script>\n",
       "        (function() {\n",
       "          const frame = document.getElementById(\"tensorboard-frame-92de100235a5de93\");\n",
       "          const url = new URL(\"/\", window.location);\n",
       "          const port = 6007;\n",
       "          if (port) {\n",
       "            url.port = port;\n",
       "          }\n",
       "          frame.src = url;\n",
       "        })();\n",
       "      </script>\n",
       "    "
      ],
      "text/plain": [
       "<IPython.core.display.HTML object>"
      ]
     },
     "metadata": {},
     "output_type": "display_data"
    }
   ],
   "source": [
    "%tensorboard --logdir=reports/gpee"
   ]
  },
  {
   "cell_type": "markdown",
   "id": "a64e4b4f-b752-4c0a-b0be-26df02461c8b",
   "metadata": {},
   "source": [
    "# Trainer"
   ]
  },
  {
   "cell_type": "code",
   "execution_count": 8,
   "id": "873ab935-2b9e-48ab-89f8-ba2bd1b97b73",
   "metadata": {
    "tags": []
   },
   "outputs": [],
   "source": [
    "from src.trainer.trainer_ee import EarlyExitTrainer\n",
    "\n",
    "params_trainer = {\n",
    "    'ee_wrapper': ee_wrapper,\n",
    "    'loaders': loaders,\n",
    "    'optim': optim,\n",
    "    'lr_scheduler': lr_scheduler,\n",
    "}\n",
    "\n",
    "trainer = EarlyExitTrainer(**params_trainer)"
   ]
  },
  {
   "cell_type": "code",
   "execution_count": 9,
   "id": "03618ee0-6a6f-4097-baba-5bffc677bef8",
   "metadata": {},
   "outputs": [
    {
     "name": "stderr",
     "output_type": "stream",
     "text": [
      "run_epoch: train: 100%|█████████████████████████████████████████████████████████████████████████████████| 782/782 [01:32<00:00,  8.44it/s, epoch_overall_loss/train=1.45, epoch_overall_acc/train=0.875]\n",
      "run_epoch: test: 100%|████████████████████████████████████████████████████████████████████████████████████| 157/157 [00:07<00:00, 22.25it/s, epoch_overall_loss/test=1.05, epoch_overall_acc/test=0.761]\n",
      "run_epoch: train: 100%|████████████████████████████████████████████████████████████████████████████████| 782/782 [01:23<00:00,  9.37it/s, epoch_overall_loss/train=0.634, epoch_overall_acc/train=0.876]\n",
      "run_epoch: test: 100%|████████████████████████████████████████████████████████████████████████████████████| 157/157 [00:06<00:00, 22.80it/s, epoch_overall_loss/test=1.15, epoch_overall_acc/test=0.763]\n",
      "run_epoch: train: 100%|████████████████████████████████████████████████████████████████████████████████| 782/782 [01:22<00:00,  9.45it/s, epoch_overall_loss/train=0.586, epoch_overall_acc/train=0.875]\n",
      "run_epoch: test: 100%|████████████████████████████████████████████████████████████████████████████████████| 157/157 [00:06<00:00, 23.17it/s, epoch_overall_loss/test=1.09, epoch_overall_acc/test=0.768]\n",
      "run_epoch: train: 100%|████████████████████████████████████████████████████████████████████████████████| 782/782 [01:21<00:00,  9.57it/s, epoch_overall_loss/train=0.555, epoch_overall_acc/train=0.875]\n",
      "run_epoch: test: 100%|█████████████████████████████████████████████████████████████████████████████████████| 157/157 [00:06<00:00, 23.24it/s, epoch_overall_loss/test=1.11, epoch_overall_acc/test=0.77]\n",
      "run_epoch: train: 100%|████████████████████████████████████████████████████████████████████████████████| 782/782 [01:21<00:00,  9.57it/s, epoch_overall_loss/train=0.535, epoch_overall_acc/train=0.874]\n",
      "run_epoch: test: 100%|████████████████████████████████████████████████████████████████████████████████████| 157/157 [00:06<00:00, 23.23it/s, epoch_overall_loss/test=1.13, epoch_overall_acc/test=0.769]\n",
      "run_epoch: train: 100%|████████████████████████████████████████████████████████████████████████████████| 782/782 [01:21<00:00,  9.57it/s, epoch_overall_loss/train=0.515, epoch_overall_acc/train=0.876]\n",
      "run_epoch: test: 100%|████████████████████████████████████████████████████████████████████████████████████| 157/157 [00:06<00:00, 23.89it/s, epoch_overall_loss/test=1.18, epoch_overall_acc/test=0.769]\n",
      "run_epoch: train: 100%|████████████████████████████████████████████████████████████████████████████████| 782/782 [01:21<00:00,  9.56it/s, epoch_overall_loss/train=0.503, epoch_overall_acc/train=0.875]\n",
      "run_epoch: test: 100%|████████████████████████████████████████████████████████████████████████████████████| 157/157 [00:06<00:00, 23.34it/s, epoch_overall_loss/test=1.17, epoch_overall_acc/test=0.762]\n",
      "run_epoch: train: 100%|████████████████████████████████████████████████████████████████████████████████| 782/782 [01:21<00:00,  9.55it/s, epoch_overall_loss/train=0.486, epoch_overall_acc/train=0.875]\n",
      "run_epoch: test: 100%|████████████████████████████████████████████████████████████████████████████████████| 157/157 [00:06<00:00, 23.51it/s, epoch_overall_loss/test=1.16, epoch_overall_acc/test=0.766]\n",
      "run_epoch: train: 100%|████████████████████████████████████████████████████████████████████████████████| 782/782 [01:21<00:00,  9.55it/s, epoch_overall_loss/train=0.475, epoch_overall_acc/train=0.876]\n",
      "run_epoch: test: 100%|█████████████████████████████████████████████████████████████████████████████████████| 157/157 [00:06<00:00, 23.92it/s, epoch_overall_loss/test=1.23, epoch_overall_acc/test=0.77]\n",
      "run_epoch: train: 100%|████████████████████████████████████████████████████████████████████████████████| 782/782 [01:21<00:00,  9.54it/s, epoch_overall_loss/train=0.461, epoch_overall_acc/train=0.876]\n",
      "run_epoch: test: 100%|████████████████████████████████████████████████████████████████████████████████████| 157/157 [00:06<00:00, 24.31it/s, epoch_overall_loss/test=1.25, epoch_overall_acc/test=0.775]\n",
      "run_exp: 100%|██████████████████████████████████| 10/10 [14:58<00:00, 89.90s/it]\n"
     ]
    }
   ],
   "source": [
    "from src.common.utils import AttrDict\n",
    "\n",
    "EXP_NAME = 'gpee'\n",
    "\n",
    "config = {\n",
    "    'epoch_start_at': 0,\n",
    "    'epoch_end_at': 10,\n",
    "    'grad_accum_steps': 1,\n",
    "    'step_multi': 50,\n",
    "    'whether_clip': False,\n",
    "    'clip_value': 2.0,\n",
    "    'base_path': 'reports',\n",
    "    'exp_name': EXP_NAME,\n",
    "    'logger_name': 'tensorboard',\n",
    "    'logger_config': {'api_token': \"07a2cd842a6d792d578f8e6c0978efeb8dcf7638\", 'project': 'early_exit', 'hyperparameters': {}},\n",
    "    'random_seed': 42,\n",
    "    'device': device\n",
    "\n",
    "}\n",
    "config = AttrDict(config)\n",
    "\n",
    "trainer.run_exp(config)"
   ]
  },
  {
   "cell_type": "code",
   "execution_count": 10,
   "id": "6ec0418c-5fcd-437d-93a3-073a48c217c1",
   "metadata": {},
   "outputs": [
    {
     "ename": "NameError",
     "evalue": "name 'ee_method' is not defined",
     "output_type": "error",
     "traceback": [
      "\u001b[0;31m---------------------------------------------------------------------------\u001b[0m",
      "\u001b[0;31mNameError\u001b[0m                                 Traceback (most recent call last)",
      "Cell \u001b[0;32mIn[10], line 1\u001b[0m\n\u001b[0;32m----> 1\u001b[0m \u001b[38;5;28;01mfor\u001b[39;00m name, p \u001b[38;5;129;01min\u001b[39;00m \u001b[43mee_method\u001b[49m\u001b[38;5;241m.\u001b[39mnamed_parameters():\n\u001b[1;32m      2\u001b[0m     \u001b[38;5;28mprint\u001b[39m(name, p\u001b[38;5;241m.\u001b[39mrequires_grad)\n",
      "\u001b[0;31mNameError\u001b[0m: name 'ee_method' is not defined"
     ]
    }
   ],
   "source": [
    "for name, p in ee_method.named_parameters():\n",
    "    print(name, p.requires_grad)"
   ]
  },
  {
   "cell_type": "code",
   "execution_count": null,
   "id": "baa8bf02-9755-469e-8536-1f7cc3ad7b71",
   "metadata": {},
   "outputs": [],
   "source": [
    "torch.randn(6,2,1,32).matmul(torch.randn(2,32,10))"
   ]
  },
  {
   "cell_type": "code",
   "execution_count": null,
   "id": "cd09d4b4-cca9-4c3a-8369-ecf17a346e99",
   "metadata": {},
   "outputs": [],
   "source": []
  }
 ],
 "metadata": {
  "kernelspec": {
   "display_name": "pfee",
   "language": "python",
   "name": "pfee"
  },
  "language_info": {
   "codemirror_mode": {
    "name": "ipython",
    "version": 3
   },
   "file_extension": ".py",
   "mimetype": "text/x-python",
   "name": "python",
   "nbconvert_exporter": "python",
   "pygments_lexer": "ipython3",
   "version": "3.10.6"
  }
 },
 "nbformat": 4,
 "nbformat_minor": 5
}
