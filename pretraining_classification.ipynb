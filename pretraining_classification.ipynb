{
 "cells": [
  {
   "cell_type": "code",
   "execution_count": 1,
   "id": "d1569d32-49b8-47e9-986c-d79ed942e938",
   "metadata": {},
   "outputs": [],
   "source": [
    "%load_ext autoreload\n",
    "%autoreload 2\n",
    "%load_ext tensorboard"
   ]
  },
  {
   "cell_type": "code",
   "execution_count": 2,
   "id": "fc444c4a-e269-4330-aee6-fbed77257a8d",
   "metadata": {},
   "outputs": [
    {
     "data": {
      "text/plain": [
       "device(type='cuda')"
      ]
     },
     "execution_count": 2,
     "metadata": {},
     "output_type": "execute_result"
    }
   ],
   "source": [
    "import torch\n",
    "\n",
    "device = torch.device(\"cuda\" if torch.cuda.is_available() else \"cpu\")\n",
    "device"
   ]
  },
  {
   "cell_type": "markdown",
   "id": "ddf41d02-b7ab-4880-b63d-140d033e1093",
   "metadata": {
    "tags": []
   },
   "source": [
    "# Model"
   ]
  },
  {
   "cell_type": "code",
   "execution_count": 3,
   "id": "4c86e001-5453-4cda-adc0-05e4a48a7c03",
   "metadata": {},
   "outputs": [],
   "source": [
    "#model\n",
    "from src.models.resnets_eff import ResNet18\n",
    "\n",
    "NUM_CLASSES = 10\n",
    "model = ResNet18(num_classes=NUM_CLASSES).to(device)"
   ]
  },
  {
   "cell_type": "markdown",
   "id": "096b69ab-2dd6-4309-a535-4f3646e882b1",
   "metadata": {
    "tags": []
   },
   "source": [
    "# Criterion"
   ]
  },
  {
   "cell_type": "code",
   "execution_count": 4,
   "id": "a5d03cd3-4ad6-4b89-a863-44bc3aeb3770",
   "metadata": {},
   "outputs": [],
   "source": [
    "from src.common.common import LOSS_NAME_MAP\n",
    "from src.models.losses import ClassificationLoss\n",
    "\n",
    "criterion = ClassificationLoss(LOSS_NAME_MAP['ce']())"
   ]
  },
  {
   "cell_type": "markdown",
   "id": "e607a3b6-8fa5-422a-adbc-1c9dc83b7a09",
   "metadata": {},
   "source": [
    "# Dataset"
   ]
  },
  {
   "cell_type": "code",
   "execution_count": 5,
   "id": "37d21531-cfcb-4e44-9890-e52b575a104c",
   "metadata": {},
   "outputs": [
    {
     "name": "stdout",
     "output_type": "stream",
     "text": [
      "Files already downloaded and verified\n",
      "Files already downloaded and verified\n",
      "Files already downloaded and verified\n"
     ]
    }
   ],
   "source": [
    "from torch.utils.data import DataLoader\n",
    "from src.data.datasets import get_cifar10\n",
    "\n",
    "\n",
    "train_dataset, _, test_dataset = get_cifar10('data/')\n",
    "\n",
    "BATCH_SIZE = 64\n",
    "\n",
    "train_loader = DataLoader(train_dataset, batch_size=BATCH_SIZE, shuffle=True, pin_memory=True, num_workers=4)\n",
    "test_loader = DataLoader(test_dataset, batch_size=BATCH_SIZE, shuffle=False, pin_memory=True, num_workers=4)\n",
    "\n",
    "loaders = {\n",
    "    'train': train_loader,\n",
    "    'test': test_loader\n",
    "}"
   ]
  },
  {
   "cell_type": "markdown",
   "id": "15d9df17-3d8c-41f8-a2b5-b2f8deb1f7cd",
   "metadata": {
    "tags": []
   },
   "source": [
    "# Optimizer"
   ]
  },
  {
   "cell_type": "code",
   "execution_count": 23,
   "id": "4b01ae97-4951-4fae-bc89-fcab894475f1",
   "metadata": {},
   "outputs": [],
   "source": [
    "from src.common.common import OPTIMIZER_NAME_MAP, SCHEDULER_NAME_MAP\n",
    "from src.common.utils import configure_optimizer\n",
    "\n",
    "GRAD_ACCUM_STEPS = 1\n",
    "EPOCHS = 100\n",
    "T_max = (len(train_loader) // GRAD_ACCUM_STEPS) * EPOCHS\n",
    "\n",
    "optim = OPTIMIZER_NAME_MAP['adamw'](filter(lambda p: p.requires_grad, model.parameters()), **{'lr': 0.01, 'weight_decay': 0.001})\n",
    "lr_scheduler = SCHEDULER_NAME_MAP['cosine'](optim, T_max=T_max, eta_min=1e-6)"
   ]
  },
  {
   "cell_type": "code",
   "execution_count": null,
   "id": "40d0d194-d457-40bc-8947-af72967b51cd",
   "metadata": {
    "tags": []
   },
   "outputs": [],
   "source": [
    "%tensorboard --logdir=reports/pretraining_resnet18"
   ]
  },
  {
   "cell_type": "markdown",
   "id": "a64e4b4f-b752-4c0a-b0be-26df02461c8b",
   "metadata": {},
   "source": [
    "# Trainer"
   ]
  },
  {
   "cell_type": "code",
   "execution_count": null,
   "id": "873ab935-2b9e-48ab-89f8-ba2bd1b97b73",
   "metadata": {
    "tags": []
   },
   "outputs": [],
   "source": [
    "from src.trainer.trainer_classification import TrainerClassification\n",
    "\n",
    "params_trainer = {\n",
    "    'model': model,\n",
    "    'criterion': criterion,\n",
    "    'loaders': loaders,\n",
    "    'optim': optim,\n",
    "    'lr_scheduler': lr_scheduler,\n",
    "}\n",
    "\n",
    "trainer = TrainerClassification(**params_trainer)"
   ]
  },
  {
   "cell_type": "code",
   "execution_count": null,
   "id": "03618ee0-6a6f-4097-baba-5bffc677bef8",
   "metadata": {},
   "outputs": [],
   "source": [
    "from src.common.utils import AttrDict\n",
    "\n",
    "EXP_NAME = 'pretraining_resnet18'\n",
    "\n",
    "config = {\n",
    "    'epoch_start_at': 0,\n",
    "    'epoch_end_at': EPOCHS,\n",
    "    'save_multi': T_max // 10,\n",
    "    'grad_accum_steps': GRAD_ACCUM_STEPS,\n",
    "    'log_multi': 100,\n",
    "    'whether_clip': False,\n",
    "    'clip_value': 2.0,\n",
    "    'base_path': 'reports',\n",
    "    'exp_name': EXP_NAME,\n",
    "    'logger_name': 'tensorboard',\n",
    "    'logger_config': {'api_token': \"07a2cd842a6d792d578f8e6c0978efeb8dcf7638\", 'project': 'early_exit', 'hyperparameters': {}},\n",
    "    'random_seed': 42,\n",
    "    'device': device\n",
    "\n",
    "}\n",
    "config = AttrDict(config)\n",
    "\n",
    "trainer.run_exp(config)"
   ]
  },
  {
   "cell_type": "code",
   "execution_count": null,
   "id": "cd09d4b4-cca9-4c3a-8369-ecf17a346e99",
   "metadata": {},
   "outputs": [],
   "source": [
    "from src.common.utils import save_model"
   ]
  },
  {
   "cell_type": "code",
   "execution_count": null,
   "id": "d963db85-c6a4-4dfe-82d6-0231ae09b95a",
   "metadata": {},
   "outputs": [],
   "source": [
    "save_model(trainer.model, 'models/resnet18_100_epochs.pth')"
   ]
  },
  {
   "cell_type": "code",
   "execution_count": null,
   "id": "034c2348-ae7e-4f20-af9b-089714990ff1",
   "metadata": {},
   "outputs": [],
   "source": []
  }
 ],
 "metadata": {
  "kernelspec": {
   "display_name": "pfee",
   "language": "python",
   "name": "pfee"
  },
  "language_info": {
   "codemirror_mode": {
    "name": "ipython",
    "version": 3
   },
   "file_extension": ".py",
   "mimetype": "text/x-python",
   "name": "python",
   "nbconvert_exporter": "python",
   "pygments_lexer": "ipython3",
   "version": "3.10.6"
  }
 },
 "nbformat": 4,
 "nbformat_minor": 5
}
