{
 "cells": [
  {
   "cell_type": "code",
   "execution_count": 1,
   "id": "d1569d32-49b8-47e9-986c-d79ed942e938",
   "metadata": {},
   "outputs": [],
   "source": [
    "%load_ext autoreload\n",
    "%autoreload 2\n",
    "%load_ext tensorboard"
   ]
  },
  {
   "cell_type": "code",
   "execution_count": 2,
   "id": "fc444c4a-e269-4330-aee6-fbed77257a8d",
   "metadata": {},
   "outputs": [
    {
     "data": {
      "text/plain": [
       "device(type='cuda')"
      ]
     },
     "execution_count": 2,
     "metadata": {},
     "output_type": "execute_result"
    }
   ],
   "source": [
    "import torch\n",
    "\n",
    "device = torch.device(\"cuda\" if torch.cuda.is_available() else \"cpu\")\n",
    "device"
   ]
  },
  {
   "cell_type": "markdown",
   "id": "ddf41d02-b7ab-4880-b63d-140d033e1093",
   "metadata": {
    "tags": []
   },
   "source": [
    "# Model"
   ]
  },
  {
   "cell_type": "code",
   "execution_count": 3,
   "id": "4c86e001-5453-4cda-adc0-05e4a48a7c03",
   "metadata": {},
   "outputs": [],
   "source": [
    "from src.common.utils import load_model\n",
    "from src.models.resnets_eff import ResNet18\n",
    "\n",
    "NUM_CLASSES = 10\n",
    "model = ResNet18(num_classes=NUM_CLASSES).to(device)\n",
    "\n",
    "PATH = 'models/resnet18_100_epochs.pth'\n",
    "model = load_model(model, PATH)\n",
    "\n",
    "for name, p in model.named_parameters():\n",
    "    p.requires_grad = False"
   ]
  },
  {
   "cell_type": "markdown",
   "id": "096b69ab-2dd6-4309-a535-4f3646e882b1",
   "metadata": {},
   "source": [
    "# Early Exit Wrapper"
   ]
  },
  {
   "cell_type": "code",
   "execution_count": 4,
   "id": "a5d03cd3-4ad6-4b89-a863-44bc3aeb3770",
   "metadata": {},
   "outputs": [],
   "source": [
    "from src.models.methods.gpfee import GPFEE\n",
    "LD = [64, 64, 128, 128, 256, 256, 512, 512]\n",
    "\n",
    "config_ee = {\n",
    "    'confidence_metric': 'max_prob',\n",
    "    'confidence_threshold': 0.9,\n",
    "    'is_model_frozen': True,\n",
    "    'act_name': 'relu',\n",
    "    'dropout_prob': 0.1,\n",
    "    'reduction_layer_weight_std': 0.02,\n",
    "    'device': device\n",
    "}\n",
    "\n",
    "ee_wrapper = GPFEE(model=model, layers_dim=LD, num_classes=NUM_CLASSES, config_ee=config_ee).to(device)"
   ]
  },
  {
   "cell_type": "markdown",
   "id": "e607a3b6-8fa5-422a-adbc-1c9dc83b7a09",
   "metadata": {},
   "source": [
    "# Dataset"
   ]
  },
  {
   "cell_type": "code",
   "execution_count": 5,
   "id": "37d21531-cfcb-4e44-9890-e52b575a104c",
   "metadata": {},
   "outputs": [
    {
     "name": "stdout",
     "output_type": "stream",
     "text": [
      "Files already downloaded and verified\n",
      "Files already downloaded and verified\n",
      "Files already downloaded and verified\n"
     ]
    }
   ],
   "source": [
    "from torch.utils.data import DataLoader\n",
    "from src.data.datasets import get_cifar10\n",
    "\n",
    "\n",
    "train_dataset, _, test_dataset = get_cifar10('data/')\n",
    "\n",
    "BATCH_SIZE = 64\n",
    "\n",
    "train_loader = DataLoader(train_dataset, batch_size=BATCH_SIZE, shuffle=True, pin_memory=True, num_workers=4)\n",
    "test_loader = DataLoader(test_dataset, batch_size=BATCH_SIZE, shuffle=False, pin_memory=True, num_workers=4)\n",
    "\n",
    "loaders = {\n",
    "    'train': train_loader,\n",
    "    'test': test_loader\n",
    "}"
   ]
  },
  {
   "cell_type": "markdown",
   "id": "15d9df17-3d8c-41f8-a2b5-b2f8deb1f7cd",
   "metadata": {
    "tags": []
   },
   "source": [
    "# Optimizer"
   ]
  },
  {
   "cell_type": "code",
   "execution_count": 6,
   "id": "4b01ae97-4951-4fae-bc89-fcab894475f1",
   "metadata": {},
   "outputs": [
    {
     "data": {
      "text/plain": [
       "15640"
      ]
     },
     "execution_count": 6,
     "metadata": {},
     "output_type": "execute_result"
    }
   ],
   "source": [
    "from src.common.common import OPTIMIZER_NAME_MAP, LOSS_NAME_MAP, SCHEDULER_NAME_MAP\n",
    "\n",
    "GRAD_ACCUM_STEPS = 1\n",
    "EPOCHS = 20\n",
    "T_max = (len(train_loader) // GRAD_ACCUM_STEPS) * EPOCHS\n",
    "\n",
    "optim = OPTIMIZER_NAME_MAP['adamw'](filter(lambda p: p.requires_grad, ee_wrapper.parameters()), **{'lr': 0.01, 'weight_decay': 0.001})\n",
    "lr_scheduler = SCHEDULER_NAME_MAP['cosine'](optim, T_max=T_max, eta_min=1e-6)\n",
    "T_max"
   ]
  },
  {
   "cell_type": "markdown",
   "id": "e8f3eebf-3809-4352-9c4b-8e06197d324e",
   "metadata": {},
   "source": [
    "# Tensorboard"
   ]
  },
  {
   "cell_type": "code",
   "execution_count": 7,
   "id": "40d0d194-d457-40bc-8947-af72967b51cd",
   "metadata": {
    "tags": []
   },
   "outputs": [
    {
     "data": {
      "text/html": [
       "\n",
       "      <iframe id=\"tensorboard-frame-d0b1a05518fc2a9e\" width=\"100%\" height=\"800\" frameborder=\"0\">\n",
       "      </iframe>\n",
       "      <script>\n",
       "        (function() {\n",
       "          const frame = document.getElementById(\"tensorboard-frame-d0b1a05518fc2a9e\");\n",
       "          const url = new URL(\"/\", window.location);\n",
       "          const port = 6006;\n",
       "          if (port) {\n",
       "            url.port = port;\n",
       "          }\n",
       "          frame.src = url;\n",
       "        })();\n",
       "      </script>\n",
       "    "
      ],
      "text/plain": [
       "<IPython.core.display.HTML object>"
      ]
     },
     "metadata": {},
     "output_type": "display_data"
    }
   ],
   "source": [
    "%tensorboard --logdir=reports/gpfee_resnet18_pretrained_100_epochs"
   ]
  },
  {
   "cell_type": "markdown",
   "id": "a64e4b4f-b752-4c0a-b0be-26df02461c8b",
   "metadata": {},
   "source": [
    "# Trainer"
   ]
  },
  {
   "cell_type": "code",
   "execution_count": 9,
   "id": "873ab935-2b9e-48ab-89f8-ba2bd1b97b73",
   "metadata": {
    "tags": []
   },
   "outputs": [],
   "source": [
    "from src.trainer.trainer_ee import EarlyExitTrainer\n",
    "\n",
    "params_trainer = {\n",
    "    'ee_wrapper': ee_wrapper,\n",
    "    'loaders': loaders,\n",
    "    'optim': optim,\n",
    "    'lr_scheduler': lr_scheduler,\n",
    "    'accelerator': None\n",
    "}\n",
    "\n",
    "trainer = EarlyExitTrainer(**params_trainer)"
   ]
  },
  {
   "cell_type": "code",
   "execution_count": null,
   "id": "03618ee0-6a6f-4097-baba-5bffc677bef8",
   "metadata": {},
   "outputs": [
    {
     "name": "stderr",
     "output_type": "stream",
     "text": [
      "run_epoch: train: 100%|█| 782/782 [00:57<00:00, 13.62it/s, epoch_ce_loss/train=1.09, epoch_imit_loss/train=0.414, epoch_overall_loss/train=1.51, epoch\n",
      "run_epoch: test: 100%|█████████████████████████████████| 157/157 [00:03<00:00, 42.30it/s, epoch_overall_loss/test=0.726, epoch_overall_acc/test=0.845]\n",
      "run_epoch: train: 100%|█| 782/782 [00:55<00:00, 14.00it/s, epoch_ce_loss/train=0.843, epoch_imit_loss/train=0.381, epoch_overall_loss/train=1.22, epoc\n",
      "run_epoch: test: 100%|██████████████████████████████████| 157/157 [00:03<00:00, 43.27it/s, epoch_overall_loss/test=0.689, epoch_overall_acc/test=0.86]\n",
      "run_epoch: train: 100%|█| 782/782 [00:57<00:00, 13.58it/s, epoch_ce_loss/train=0.805, epoch_imit_loss/train=0.373, epoch_overall_loss/train=1.18, epoc\n",
      "run_epoch: test: 100%|█████████████████████████████████| 157/157 [00:03<00:00, 45.05it/s, epoch_overall_loss/test=0.663, epoch_overall_acc/test=0.863]\n",
      "run_epoch: train: 100%|█| 782/782 [00:57<00:00, 13.62it/s, epoch_ce_loss/train=0.796, epoch_imit_loss/train=0.371, epoch_overall_loss/train=1.17, epoc\n",
      "run_epoch: test: 100%|█████████████████████████████████| 157/157 [00:03<00:00, 43.80it/s, epoch_overall_loss/test=0.658, epoch_overall_acc/test=0.869]\n",
      "run_epoch: train: 100%|█| 782/782 [00:56<00:00, 13.72it/s, epoch_ce_loss/train=0.787, epoch_imit_loss/train=0.37, epoch_overall_loss/train=1.16, epoch\n",
      "run_epoch: test: 100%|█████████████████████████████████| 157/157 [00:03<00:00, 42.57it/s, epoch_overall_loss/test=0.693, epoch_overall_acc/test=0.866]\n",
      "run_epoch: train: 100%|█| 782/782 [00:59<00:00, 13.25it/s, epoch_ce_loss/train=0.776, epoch_imit_loss/train=0.364, epoch_overall_loss/train=1.14, epoc\n",
      "run_epoch: test: 100%|█████████████████████████████████| 157/157 [00:03<00:00, 44.31it/s, epoch_overall_loss/test=0.643, epoch_overall_acc/test=0.864]\n",
      "run_epoch: train: 100%|█| 782/782 [01:04<00:00, 12.20it/s, epoch_ce_loss/train=0.769, epoch_imit_loss/train=0.358, epoch_overall_loss/train=1.13, epoc\n",
      "run_epoch: test: 100%|█████████████████████████████████| 157/157 [00:03<00:00, 45.62it/s, epoch_overall_loss/test=0.646, epoch_overall_acc/test=0.865]\n",
      "run_epoch: train:  52%|▌| 406/782 [00:44<00:27, 13.52it/s, running_ce_loss/train=0.737, running_imit_loss/train=0.351, running_overall_loss/train=1.09"
     ]
    }
   ],
   "source": [
    "from src.common.utils import AttrDict\n",
    "\n",
    "EXP_NAME = 'gpfee_resnet18_pretrained_100_epochs'\n",
    "\n",
    "config = {\n",
    "    'epoch_start_at': 0,\n",
    "    'epoch_end_at': EPOCHS,\n",
    "    'grad_accum_steps': GRAD_ACCUM_STEPS,\n",
    "    'save_multi': T_max // 10,\n",
    "    'log_multi': 100,\n",
    "    'whether_clip': False,\n",
    "    'clip_value': 2.0,\n",
    "    'base_path': 'reports',\n",
    "    'exp_name': EXP_NAME,\n",
    "    'logger_name': 'tensorboard',\n",
    "    'logger_config': {'api_token': \"07a2cd842a6d792d578f8e6c0978efeb8dcf7638\", 'project': 'early_exit', 'hyperparameters': {}},\n",
    "    'random_seed': 42,\n",
    "    'device': device\n",
    "\n",
    "}\n",
    "config = AttrDict(config)\n",
    "\n",
    "trainer.run_exp(config)"
   ]
  },
  {
   "cell_type": "code",
   "execution_count": null,
   "id": "034c2348-ae7e-4f20-af9b-089714990ff1",
   "metadata": {},
   "outputs": [],
   "source": []
  }
 ],
 "metadata": {
  "kernelspec": {
   "display_name": "pfee",
   "language": "python",
   "name": "pfee"
  },
  "language_info": {
   "codemirror_mode": {
    "name": "ipython",
    "version": 3
   },
   "file_extension": ".py",
   "mimetype": "text/x-python",
   "name": "python",
   "nbconvert_exporter": "python",
   "pygments_lexer": "ipython3",
   "version": "3.10.6"
  }
 },
 "nbformat": 4,
 "nbformat_minor": 5
}
