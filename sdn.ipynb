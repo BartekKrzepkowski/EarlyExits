{
 "cells": [
  {
   "cell_type": "code",
   "execution_count": null,
   "id": "d1569d32-49b8-47e9-986c-d79ed942e938",
   "metadata": {},
   "outputs": [],
   "source": [
    "%load_ext autoreload\n",
    "%autoreload 2\n",
    "%load_ext tensorboard"
   ]
  },
  {
   "cell_type": "code",
   "execution_count": null,
   "id": "fc444c4a-e269-4330-aee6-fbed77257a8d",
   "metadata": {},
   "outputs": [],
   "source": [
    "import torch\n",
    "\n",
    "device = torch.device(\"cuda\" if torch.cuda.is_available() else \"cpu\")\n",
    "device"
   ]
  },
  {
   "cell_type": "markdown",
   "id": "ddf41d02-b7ab-4880-b63d-140d033e1093",
   "metadata": {},
   "source": [
    "# Model"
   ]
  },
  {
   "cell_type": "code",
   "execution_count": null,
   "id": "4c86e001-5453-4cda-adc0-05e4a48a7c03",
   "metadata": {},
   "outputs": [],
   "source": [
    "#model\n",
    "from src.models.resnets_eff import ResNet34\n",
    "\n",
    "NUM_CLASSES = 10\n",
    "model = ResNet34(num_classes=NUM_CLASSES).to(device)\n",
    "\n",
    "PATH = 'models/model_2023-01-10 15:25:15.316290_step_0.pth'\n",
    "model.load_state_dict(torch.load(PATH))\n",
    "\n",
    "for name, p in model.named_parameters():\n",
    "    p.requires_grad = False"
   ]
  },
  {
   "cell_type": "markdown",
   "id": "096b69ab-2dd6-4309-a535-4f3646e882b1",
   "metadata": {},
   "source": [
    "# Early Exit Wrapper"
   ]
  },
  {
   "cell_type": "code",
   "execution_count": null,
   "id": "a5d03cd3-4ad6-4b89-a863-44bc3aeb3770",
   "metadata": {},
   "outputs": [],
   "source": [
    "from src.models.methods.sdn import SDN\n",
    "LD = [64, 64, 64, 128, 128, 128, 128, 256, 256, 256, 256, 256, 256, 512, 512, 512]\n",
    "\n",
    "config_ee = {\n",
    "    'confidence_threshold': 0.02,\n",
    "    'is_model_frozen': True,\n",
    "    'act_name': 'relu',\n",
    "    'dropout_prob': 0.1,\n",
    "    'reduction_layer_weight_std': 0.02,\n",
    "    'device': device\n",
    "}\n",
    "\n",
    "ee_wrapper = SDN(model=model, layers_dim=LD, num_classes=NUM_CLASSES, config_ee=config_ee).to(device)"
   ]
  },
  {
   "cell_type": "markdown",
   "id": "15d9df17-3d8c-41f8-a2b5-b2f8deb1f7cd",
   "metadata": {
    "tags": []
   },
   "source": [
    "# Optimizer"
   ]
  },
  {
   "cell_type": "code",
   "execution_count": null,
   "id": "4b01ae97-4951-4fae-bc89-fcab894475f1",
   "metadata": {},
   "outputs": [],
   "source": [
    "from src.common.common import OPTIMIZER_NAME_MAP, LOSS_NAME_MAP\n",
    "\n",
    "optim = OPTIMIZER_NAME_MAP['adamw'](filter(lambda p: p.requires_grad, ee_wrapper.parameters()), **{'lr': 0.01, 'weight_decay': 0.001})\n",
    "lr_scheduler = None"
   ]
  },
  {
   "cell_type": "markdown",
   "id": "e607a3b6-8fa5-422a-adbc-1c9dc83b7a09",
   "metadata": {},
   "source": [
    "# Dataset"
   ]
  },
  {
   "cell_type": "code",
   "execution_count": null,
   "id": "37d21531-cfcb-4e44-9890-e52b575a104c",
   "metadata": {},
   "outputs": [],
   "source": [
    "from torch.utils.data import DataLoader\n",
    "from src.data.datasets import get_cifar10\n",
    "\n",
    "\n",
    "train_dataset, _, test_dataset = get_cifar10('data/')\n",
    "\n",
    "BATCH_SIZE = 64\n",
    "\n",
    "train_loader = DataLoader(train_dataset, batch_size=BATCH_SIZE, shuffle=True, pin_memory=True, num_workers=4)\n",
    "test_loader = DataLoader(test_dataset, batch_size=BATCH_SIZE, shuffle=False, pin_memory=True, num_workers=4)\n",
    "\n",
    "loaders = {\n",
    "    'train': train_loader,\n",
    "    'test': test_loader\n",
    "}"
   ]
  },
  {
   "cell_type": "code",
   "execution_count": null,
   "id": "40d0d194-d457-40bc-8947-af72967b51cd",
   "metadata": {
    "tags": []
   },
   "outputs": [],
   "source": [
    "%tensorboard --logdir=reports/sdn"
   ]
  },
  {
   "cell_type": "markdown",
   "id": "a64e4b4f-b752-4c0a-b0be-26df02461c8b",
   "metadata": {},
   "source": [
    "# Trainer"
   ]
  },
  {
   "cell_type": "code",
   "execution_count": null,
   "id": "873ab935-2b9e-48ab-89f8-ba2bd1b97b73",
   "metadata": {
    "tags": []
   },
   "outputs": [],
   "source": [
    "from src.trainer.trainer_ee import EarlyExitTrainer\n",
    "\n",
    "params_trainer = {\n",
    "    'ee_wrapper': ee_wrapper,\n",
    "    'loaders': loaders,\n",
    "    'optim': optim,\n",
    "    'lr_scheduler': lr_scheduler,\n",
    "}\n",
    "\n",
    "trainer = EarlyExitTrainer(**params_trainer)"
   ]
  },
  {
   "cell_type": "code",
   "execution_count": null,
   "id": "03618ee0-6a6f-4097-baba-5bffc677bef8",
   "metadata": {},
   "outputs": [],
   "source": [
    "from src.common.utils import AttrDict\n",
    "\n",
    "EXP_NAME = 'sdn'\n",
    "\n",
    "config = {\n",
    "    'epoch_start_at': 0,\n",
    "    'epoch_end_at': 10,\n",
    "    'grad_accum_steps': 1,\n",
    "    'step_multi': 50,\n",
    "    'whether_clip': False,\n",
    "    'clip_value': 2.0,\n",
    "    'base_path': 'reports',\n",
    "    'exp_name': EXP_NAME,\n",
    "    'logger_name': 'tensorboard',\n",
    "    'logger_config': {'api_token': \"07a2cd842a6d792d578f8e6c0978efeb8dcf7638\", 'project': 'early_exit', 'hyperparameters': {}},\n",
    "    'random_seed': 42,\n",
    "    'device': device\n",
    "\n",
    "}\n",
    "config = AttrDict(config)\n",
    "\n",
    "trainer.run_exp(config)"
   ]
  },
  {
   "cell_type": "code",
   "execution_count": null,
   "id": "6ec0418c-5fcd-437d-93a3-073a48c217c1",
   "metadata": {},
   "outputs": [],
   "source": [
    "for name, p in ee_method.named_parameters():\n",
    "    print(name, p.requires_grad)"
   ]
  },
  {
   "cell_type": "code",
   "execution_count": null,
   "id": "90a4df6e-dbdb-47f9-9fd3-e838ea29921a",
   "metadata": {},
   "outputs": [],
   "source": []
  }
 ],
 "metadata": {
  "kernelspec": {
   "display_name": "pfee",
   "language": "python",
   "name": "pfee"
  },
  "language_info": {
   "codemirror_mode": {
    "name": "ipython",
    "version": 3
   },
   "file_extension": ".py",
   "mimetype": "text/x-python",
   "name": "python",
   "nbconvert_exporter": "python",
   "pygments_lexer": "ipython3",
   "version": "3.10.6"
  }
 },
 "nbformat": 4,
 "nbformat_minor": 5
}
